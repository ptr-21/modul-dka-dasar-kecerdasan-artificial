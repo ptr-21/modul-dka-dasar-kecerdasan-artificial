{
 "cells": [
  {
   "cell_type": "code",
   "execution_count": 134,
   "id": "6276bf72",
   "metadata": {},
   "outputs": [],
   "source": [
    "import sympy as sp"
   ]
  },
  {
   "cell_type": "markdown",
   "id": "8c485cb7",
   "metadata": {},
   "source": [
    "# 1. Pendefinisian Simbol Pada SymPy"
   ]
  },
  {
   "cell_type": "markdown",
   "id": "755908b3",
   "metadata": {},
   "source": [
    "Penggunaan symbols() untuk mendefinisikan satu simbol"
   ]
  },
  {
   "cell_type": "code",
   "execution_count": 135,
   "id": "0b61b14a",
   "metadata": {},
   "outputs": [
    {
     "data": {
      "text/latex": [
       "$\\displaystyle x$"
      ],
      "text/plain": [
       "x"
      ]
     },
     "execution_count": 135,
     "metadata": {},
     "output_type": "execute_result"
    }
   ],
   "source": [
    "x = sp.symbols('x')\n",
    "x"
   ]
  },
  {
   "cell_type": "markdown",
   "id": "036a999b",
   "metadata": {},
   "source": [
    "Pendefinisian beberapa simbol"
   ]
  },
  {
   "cell_type": "code",
   "execution_count": 170,
   "id": "0ce7e349",
   "metadata": {},
   "outputs": [
    {
     "data": {
      "text/latex": [
       "$\\displaystyle a + b + c + e$"
      ],
      "text/plain": [
       "a + b + c + e"
      ]
     },
     "execution_count": 170,
     "metadata": {},
     "output_type": "execute_result"
    }
   ],
   "source": [
    "# Cara 1 \n",
    "a, b, c, e = sp.symbols(\"a b c e\")\n",
    "# Cara 2\n",
    "a, b, c, e = sp.symbols(\"a, b, c, e\")\n",
    "a + b + c + e"
   ]
  },
  {
   "cell_type": "markdown",
   "id": "27aed13f",
   "metadata": {},
   "source": [
    "Pendefinisian simbol dengan list"
   ]
  },
  {
   "cell_type": "code",
   "execution_count": 137,
   "id": "05f62563",
   "metadata": {},
   "outputs": [
    {
     "data": {
      "text/latex": [
       "$\\displaystyle a + b + c$"
      ],
      "text/plain": [
       "a + b + c"
      ]
     },
     "execution_count": 137,
     "metadata": {},
     "output_type": "execute_result"
    }
   ],
   "source": [
    "my_symbols = ['a', 'b', 'c']\n",
    "a, b, c = sp.symbols(my_symbols)\n",
    "a + b + c"
   ]
  },
  {
   "cell_type": "markdown",
   "id": "e0027806",
   "metadata": {},
   "source": [
    "Pendefinisian simbol variabel dengan indeks"
   ]
  },
  {
   "cell_type": "code",
   "execution_count": 138,
   "id": "c196cf55",
   "metadata": {},
   "outputs": [
    {
     "data": {
      "text/latex": [
       "$\\displaystyle x_{1} + x_{2} + x_{3}$"
      ],
      "text/plain": [
       "x1 + x2 + x3"
      ]
     },
     "execution_count": 138,
     "metadata": {},
     "output_type": "execute_result"
    }
   ],
   "source": [
    "x1, x2, x3 = sp.symbols(\"x1, x2, x3\")\n",
    "x1 + x2 + x3"
   ]
  },
  {
   "cell_type": "markdown",
   "id": "5f0de633",
   "metadata": {},
   "source": [
    "Pendefinisian simbol dengan notasi range"
   ]
  },
  {
   "cell_type": "code",
   "execution_count": 139,
   "id": "c4f85b86",
   "metadata": {},
   "outputs": [
    {
     "data": {
      "text/latex": [
       "$\\displaystyle x_{0} + x_{1} + x_{2} + x_{3} + x_{4}$"
      ],
      "text/plain": [
       "x0 + x1 + x2 + x3 + x4"
      ]
     },
     "execution_count": 139,
     "metadata": {},
     "output_type": "execute_result"
    }
   ],
   "source": [
    "x_n = sp.symbols('x:5')\n",
    "x_n[0] + x_n[1] + x_n[2] + x_n[3] + x_n[4]"
   ]
  },
  {
   "cell_type": "markdown",
   "id": "28602afc",
   "metadata": {},
   "source": [
    "Pendefinisian simbol Yunani"
   ]
  },
  {
   "cell_type": "code",
   "execution_count": 140,
   "id": "0d456eab",
   "metadata": {},
   "outputs": [
    {
     "data": {
      "text/latex": [
       "$\\displaystyle \\alpha + \\beta + \\gamma$"
      ],
      "text/plain": [
       "alpha + beta + gamma"
      ]
     },
     "execution_count": 140,
     "metadata": {},
     "output_type": "execute_result"
    }
   ],
   "source": [
    "alpha, beta, gamma = sp.symbols(\"alpha, beta, gamma\")\n",
    "alpha + beta + gamma"
   ]
  },
  {
   "cell_type": "markdown",
   "id": "8f903fcc",
   "metadata": {},
   "source": [
    "# 2. Aljabar Dasar Pada SymPy"
   ]
  },
  {
   "cell_type": "markdown",
   "id": "8bca31a9",
   "metadata": {},
   "source": [
    "Penjumlahan"
   ]
  },
  {
   "cell_type": "code",
   "execution_count": 171,
   "id": "a0b661d4",
   "metadata": {},
   "outputs": [
    {
     "data": {
      "text/latex": [
       "$\\displaystyle x + y$"
      ],
      "text/plain": [
       "x + y"
      ]
     },
     "execution_count": 171,
     "metadata": {},
     "output_type": "execute_result"
    }
   ],
   "source": [
    "x, y = sp.symbols('x, y')\n",
    "add = x + y\n",
    "add"
   ]
  },
  {
   "cell_type": "markdown",
   "id": "0172e6dd",
   "metadata": {},
   "source": [
    "Pengurangan"
   ]
  },
  {
   "cell_type": "code",
   "execution_count": 142,
   "id": "d0b544ff",
   "metadata": {},
   "outputs": [
    {
     "data": {
      "text/latex": [
       "$\\displaystyle x - y$"
      ],
      "text/plain": [
       "x - y"
      ]
     },
     "execution_count": 142,
     "metadata": {},
     "output_type": "execute_result"
    }
   ],
   "source": [
    "import sympy as sp\n",
    "\n",
    "x, y = sp.symbols('x y')  # sp.symbols('x, y') juga bisa\n",
    "\n",
    "substraction = x - y\n",
    "substraction\n"
   ]
  },
  {
   "cell_type": "markdown",
   "id": "de3960c4",
   "metadata": {},
   "source": [
    "Perkalian"
   ]
  },
  {
   "cell_type": "code",
   "execution_count": 143,
   "id": "31a7da46",
   "metadata": {},
   "outputs": [
    {
     "data": {
      "text/latex": [
       "$\\displaystyle x y$"
      ],
      "text/plain": [
       "x*y"
      ]
     },
     "execution_count": 143,
     "metadata": {},
     "output_type": "execute_result"
    }
   ],
   "source": [
    "x, y = sp.symbols('x, y')\n",
    "multiplication = x * y\n",
    "multiplication"
   ]
  },
  {
   "cell_type": "markdown",
   "id": "33475364",
   "metadata": {},
   "source": [
    "Pembagian"
   ]
  },
  {
   "cell_type": "code",
   "execution_count": 144,
   "id": "28cbd07a",
   "metadata": {},
   "outputs": [
    {
     "data": {
      "text/latex": [
       "$\\displaystyle \\frac{x}{y}$"
      ],
      "text/plain": [
       "x/y"
      ]
     },
     "execution_count": 144,
     "metadata": {},
     "output_type": "execute_result"
    }
   ],
   "source": [
    "x, y = sp.symbols('x, y')\n",
    "division = x / y\n",
    "division"
   ]
  },
  {
   "cell_type": "markdown",
   "id": "d5ae94e3",
   "metadata": {},
   "source": [
    "`expand()`\n",
    "\n",
    "Metode ini digunakan untuk mengembangkan ekspresi simbolik, yang menguraikan ekspresi menjadi\n",
    "bentuk yang lebih panjang"
   ]
  },
  {
   "cell_type": "code",
   "execution_count": 145,
   "id": "f92c3064",
   "metadata": {},
   "outputs": [
    {
     "data": {
      "text/latex": [
       "$\\displaystyle \\left(x + y\\right)^{2}$"
      ],
      "text/plain": [
       "(x + y)**2"
      ]
     },
     "execution_count": 145,
     "metadata": {},
     "output_type": "execute_result"
    }
   ],
   "source": [
    "x, y = sp.symbols('x, y')\n",
    "expr = (x + y) ** 2\n",
    "expr"
   ]
  },
  {
   "cell_type": "code",
   "execution_count": 146,
   "id": "9830f12c",
   "metadata": {},
   "outputs": [
    {
     "data": {
      "text/latex": [
       "$\\displaystyle x^{2} + 2 x y + y^{2}$"
      ],
      "text/plain": [
       "x**2 + 2*x*y + y**2"
      ]
     },
     "execution_count": 146,
     "metadata": {},
     "output_type": "execute_result"
    }
   ],
   "source": [
    "# Mengembangkan ekspresi\n",
    "expanded_expr = expr.expand()\n",
    "expanded_expr"
   ]
  },
  {
   "cell_type": "markdown",
   "id": "a201d715",
   "metadata": {},
   "source": [
    "`.simplify()`\n",
    "\n",
    "Metode ini digunakan untuk menyederhanakan ekspresi simbolik ke bentuk yang paling sederhana.\n",
    "Metode ini mungkin melibatkan penggabungan suku, pemecahan faktor, penyederhanaan\n",
    "trigonometri, dan lain-lain untuk meneukan ekspresi yang paling sederhana."
   ]
  },
  {
   "cell_type": "code",
   "execution_count": 147,
   "id": "91afdd50",
   "metadata": {},
   "outputs": [
    {
     "data": {
      "text/latex": [
       "$\\displaystyle \\sin^{2}{\\left(x \\right)} + \\cos^{2}{\\left(x \\right)}$"
      ],
      "text/plain": [
       "sin(x)**2 + cos(x)**2"
      ]
     },
     "execution_count": 147,
     "metadata": {},
     "output_type": "execute_result"
    }
   ],
   "source": [
    "x = sp.symbols('x')\n",
    "expr = sp.sin(x)**2 + sp.cos(x)**2\n",
    "expr"
   ]
  },
  {
   "cell_type": "code",
   "execution_count": 148,
   "id": "564e98aa",
   "metadata": {},
   "outputs": [
    {
     "data": {
      "text/latex": [
       "$\\displaystyle 1$"
      ],
      "text/plain": [
       "1"
      ]
     },
     "execution_count": 148,
     "metadata": {},
     "output_type": "execute_result"
    }
   ],
   "source": [
    "# Menyederhanakan ekspresi\n",
    "simplified_expr = expr.simplify()\n",
    "simplified_expr"
   ]
  },
  {
   "cell_type": "markdown",
   "id": "f118d6d7",
   "metadata": {},
   "source": [
    "# 3. Kalkulus Dasar Pada SymPy"
   ]
  },
  {
   "cell_type": "code",
   "execution_count": 149,
   "id": "22d37d5d",
   "metadata": {},
   "outputs": [
    {
     "data": {
      "text/latex": [
       "$\\displaystyle x^{3} + 2 x^{2} + x$"
      ],
      "text/plain": [
       "x**3 + 2*x**2 + x"
      ]
     },
     "execution_count": 149,
     "metadata": {},
     "output_type": "execute_result"
    }
   ],
   "source": [
    "x = sp.symbols('x')\n",
    "# Pendefinisian fungsi f(x)\n",
    "f = x**3 + 2*x**2 + x\n",
    "f"
   ]
  },
  {
   "cell_type": "code",
   "execution_count": 150,
   "id": "5fe3e8d1",
   "metadata": {},
   "outputs": [
    {
     "data": {
      "text/latex": [
       "$\\displaystyle 3 x^{2} + 4 x + 1$"
      ],
      "text/plain": [
       "3*x**2 + 4*x + 1"
      ]
     },
     "execution_count": 150,
     "metadata": {},
     "output_type": "execute_result"
    }
   ],
   "source": [
    "# Difrensiasi fungsi f(x) terhadap x\n",
    "f_prime = f.diff(x)\n",
    "f_prime"
   ]
  },
  {
   "cell_type": "markdown",
   "id": "bddb0f6e",
   "metadata": {},
   "source": [
    "integrate()\n",
    "\n",
    "Metode ini digunakan untuk melakukan integrasi dari suatu fungsi simbolik. Integrasi dapat dilakukan\n",
    "secara tak tentu (integral tanpa batas) atau secara tentu (integral dengan batas) "
   ]
  },
  {
   "cell_type": "code",
   "execution_count": 151,
   "id": "a66af06d",
   "metadata": {},
   "outputs": [],
   "source": [
    "x = sp.symbols('x')\n",
    "# Pendefinisian fungsi f(x)\n",
    "f = sp.sin(x)"
   ]
  },
  {
   "cell_type": "markdown",
   "id": "657212b3",
   "metadata": {},
   "source": [
    "Integrasi tak tentu"
   ]
  },
  {
   "cell_type": "code",
   "execution_count": 152,
   "id": "3239625a",
   "metadata": {},
   "outputs": [
    {
     "data": {
      "text/latex": [
       "$\\displaystyle - \\cos{\\left(x \\right)}$"
      ],
      "text/plain": [
       "-cos(x)"
      ]
     },
     "execution_count": 152,
     "metadata": {},
     "output_type": "execute_result"
    }
   ],
   "source": [
    "f_integral_indef = sp.integrate(f, x)\n",
    "f_integral_indef"
   ]
  },
  {
   "cell_type": "markdown",
   "id": "14cca1b2",
   "metadata": {},
   "source": [
    "Integrasi tentu dari 0 sampai pi"
   ]
  },
  {
   "cell_type": "code",
   "execution_count": 153,
   "id": "c2aa4ac5",
   "metadata": {},
   "outputs": [
    {
     "data": {
      "text/latex": [
       "$\\displaystyle 2$"
      ],
      "text/plain": [
       "2"
      ]
     },
     "execution_count": 153,
     "metadata": {},
     "output_type": "execute_result"
    }
   ],
   "source": [
    "f_integral_def = sp.integrate(f, (x, 0, sp.pi))\n",
    "# .integrate(fungsi, (ekspresi, batas_bawah, batas_atas))\n",
    "f_integral_def"
   ]
  },
  {
   "cell_type": "markdown",
   "id": "e4ea66ad",
   "metadata": {},
   "source": [
    "limit()"
   ]
  },
  {
   "cell_type": "code",
   "execution_count": 154,
   "id": "84902181",
   "metadata": {},
   "outputs": [
    {
     "data": {
      "text/latex": [
       "$\\displaystyle \\frac{\\sin{\\left(x \\right)}}{x}$"
      ],
      "text/plain": [
       "sin(x)/x"
      ]
     },
     "execution_count": 154,
     "metadata": {},
     "output_type": "execute_result"
    }
   ],
   "source": [
    "x = sp.symbols('x')\n",
    "# Pendefinisian fungsi f(x)\n",
    "f = sp.sin(x) / x\n",
    "f"
   ]
  },
  {
   "cell_type": "markdown",
   "id": "e85efdd9",
   "metadata": {},
   "source": [
    "Menghitung limit f(x) saat x mendekati 0"
   ]
  },
  {
   "cell_type": "code",
   "execution_count": 155,
   "id": "58eb84e8",
   "metadata": {},
   "outputs": [
    {
     "data": {
      "text/latex": [
       "$\\displaystyle 1$"
      ],
      "text/plain": [
       "1"
      ]
     },
     "execution_count": 155,
     "metadata": {},
     "output_type": "execute_result"
    }
   ],
   "source": [
    "f_limit = sp.limit(f, x, 0)\n",
    "f_limit\n"
   ]
  },
  {
   "cell_type": "markdown",
   "id": "2eb2e1ba",
   "metadata": {},
   "source": [
    "# 4. Penyelesaian Persamaan Simbolik Pada SymPy"
   ]
  },
  {
   "cell_type": "markdown",
   "id": "f4427ef3",
   "metadata": {},
   "source": [
    "`.eq()`\n",
    "\n",
    "Fungsi ini digunakan untuk mendefinisikan sebuah persamaan simbolik pada SymPy. Fungsi ini\n",
    "digunakan untuk menyatakan bahwa dua ekspresi matematika sama.\n"
   ]
  },
  {
   "cell_type": "code",
   "execution_count": 156,
   "id": "ff9e83bc",
   "metadata": {},
   "outputs": [
    {
     "data": {
      "text/latex": [
       "$\\displaystyle x^{2} - 4 = 0$"
      ],
      "text/plain": [
       "Eq(x**2 - 4, 0)"
      ]
     },
     "execution_count": 156,
     "metadata": {},
     "output_type": "execute_result"
    }
   ],
   "source": [
    "x = sp.symbols('x')\n",
    "# Membuat persamaan\n",
    "equation = sp.Eq(x**2 - 4, 0)\n",
    "equation"
   ]
  },
  {
   "cell_type": "code",
   "execution_count": 157,
   "id": "8cf3bc85",
   "metadata": {},
   "outputs": [
    {
     "data": {
      "text/latex": [
       "$\\displaystyle x^{3} - 2 = 3 x + y - 2$"
      ],
      "text/plain": [
       "Eq(x**3 - 2, 3*x + y - 2)"
      ]
     },
     "execution_count": 157,
     "metadata": {},
     "output_type": "execute_result"
    }
   ],
   "source": [
    "x, y = sp.symbols('x, y')\n",
    "# Membuat persamaan\n",
    "equation = sp.Eq(x**3 - 2, y - 2 + 3*x)\n",
    "equation"
   ]
  },
  {
   "cell_type": "markdown",
   "id": "d7923c42",
   "metadata": {},
   "source": [
    "`.solve()`\n",
    "\n",
    "Merupakan fungsi yang digunakan untuk mencari solusi dari persamaan atau sistem persamaan\n",
    "simbolik. Fungsi ini memecahkan persamaan aljabar dengan mencari nilai simbolik yang memenuhi\n",
    "persamaan tersebut."
   ]
  },
  {
   "cell_type": "code",
   "execution_count": 158,
   "id": "c5704955",
   "metadata": {},
   "outputs": [
    {
     "data": {
      "text/latex": [
       "$\\displaystyle x^{2} - 4 = 0$"
      ],
      "text/plain": [
       "Eq(x**2 - 4, 0)"
      ]
     },
     "execution_count": 158,
     "metadata": {},
     "output_type": "execute_result"
    }
   ],
   "source": [
    "x = sp.symbols('x')\n",
    "# Membuat persamaan\n",
    "equation = sp.Eq(x**2 - 4, 0)\n",
    "equation"
   ]
  },
  {
   "cell_type": "code",
   "execution_count": 159,
   "id": "c2350b10",
   "metadata": {},
   "outputs": [
    {
     "data": {
      "text/plain": [
       "[-2, 2]"
      ]
     },
     "execution_count": 159,
     "metadata": {},
     "output_type": "execute_result"
    }
   ],
   "source": [
    "# Memecahkan persamaan untuk x\n",
    "solution = sp.solve(equation, x)\n",
    "solution"
   ]
  },
  {
   "cell_type": "markdown",
   "id": "4988bfe2",
   "metadata": {},
   "source": [
    "`.dsolve()`\n",
    "\n",
    "Merupakan fungsi yang digunakan untuk menyelesaikan persamaan diferensial simbolik. Fungsi ini\n",
    "mencari Solusi umum dari persamaan difrensial dalam bentuk simbolik. "
   ]
  },
  {
   "cell_type": "code",
   "execution_count": 160,
   "id": "4df66a34",
   "metadata": {},
   "outputs": [
    {
     "data": {
      "text/latex": [
       "$\\displaystyle y{\\left(t \\right)} + \\frac{d^{2}}{d t^{2}} y{\\left(t \\right)} = 0$"
      ],
      "text/plain": [
       "Eq(y(t) + Derivative(y(t), (t, 2)), 0)"
      ]
     },
     "execution_count": 160,
     "metadata": {},
     "output_type": "execute_result"
    }
   ],
   "source": [
    "# Pendefinisian simbol dan fungsi\n",
    "t = sp.symbols('t')\n",
    "y = sp.Function('y')(t)\n",
    "equation = sp.Eq(y.diff(t, t) + y, 0)\n",
    "equation"
   ]
  },
  {
   "cell_type": "code",
   "execution_count": 161,
   "id": "77b28d2c",
   "metadata": {},
   "outputs": [
    {
     "data": {
      "text/plain": [
       "[-2, 2]"
      ]
     },
     "execution_count": 161,
     "metadata": {},
     "output_type": "execute_result"
    }
   ],
   "source": [
    "# Penyelesaian persamaan difrensial\n",
    "y = sp.Function('y')(t)\n",
    "solution"
   ]
  },
  {
   "cell_type": "markdown",
   "id": "5c02cd8d",
   "metadata": {},
   "source": [
    "# 5. Manipulasi Matriks Pada SymPy"
   ]
  },
  {
   "cell_type": "markdown",
   "id": "9374a1da",
   "metadata": {},
   "source": [
    "`.Matrix()`\n",
    "\n",
    "Fungsi ini digunakan untuk mendefinisikan matriks yang dapat diisi dengan angka, variabel simbolik,\n",
    "atau ekspresi simbolik."
   ]
  },
  {
   "cell_type": "code",
   "execution_count": 162,
   "id": "3d118608",
   "metadata": {},
   "outputs": [
    {
     "data": {
      "text/latex": [
       "$\\displaystyle \\left[\\begin{matrix}1 & 2\\\\3 & 4\\end{matrix}\\right]$"
      ],
      "text/plain": [
       "Matrix([\n",
       "[1, 2],\n",
       "[3, 4]])"
      ]
     },
     "execution_count": 162,
     "metadata": {},
     "output_type": "execute_result"
    }
   ],
   "source": [
    "# Pendefinisian matriks 2x2\n",
    "A = sp.Matrix([[1, 2], [3,4]])\n",
    "A"
   ]
  },
  {
   "cell_type": "code",
   "execution_count": 163,
   "id": "6c4a6980",
   "metadata": {},
   "outputs": [
    {
     "data": {
      "text/latex": [
       "$\\displaystyle \\left[\\begin{matrix}0 & 0 & 0\\\\0 & 0 & 0\\\\0 & 0 & 0\\end{matrix}\\right]$"
      ],
      "text/plain": [
       "Matrix([\n",
       "[0, 0, 0],\n",
       "[0, 0, 0],\n",
       "[0, 0, 0]])"
      ]
     },
     "execution_count": 163,
     "metadata": {},
     "output_type": "execute_result"
    }
   ],
   "source": [
    "# Pendefinisian matriks nol 3x3\n",
    "A = sp.zeros(3)\n",
    "A"
   ]
  },
  {
   "cell_type": "code",
   "execution_count": 164,
   "id": "5796749b",
   "metadata": {},
   "outputs": [
    {
     "data": {
      "text/latex": [
       "$\\displaystyle \\left[\\begin{matrix}1 & 0 & 0\\\\0 & 1 & 0\\\\0 & 0 & 1\\end{matrix}\\right]$"
      ],
      "text/plain": [
       "Matrix([\n",
       "[1, 0, 0],\n",
       "[0, 1, 0],\n",
       "[0, 0, 1]])"
      ]
     },
     "execution_count": 164,
     "metadata": {},
     "output_type": "execute_result"
    }
   ],
   "source": [
    "# Pendefinisian matriks identitas 3x3\n",
    "A = sp.eye(3)\n",
    "A"
   ]
  },
  {
   "cell_type": "markdown",
   "id": "fe895daf",
   "metadata": {},
   "source": [
    "`.det()`\n",
    "\n",
    "Fungsi ini digunakan untuk menghitung determinan dari sebuah matriks persegi"
   ]
  },
  {
   "cell_type": "code",
   "execution_count": 165,
   "id": "6bd0696c",
   "metadata": {},
   "outputs": [
    {
     "data": {
      "text/latex": [
       "$\\displaystyle \\left[\\begin{matrix}1 & 2\\\\3 & 4\\end{matrix}\\right]$"
      ],
      "text/plain": [
       "Matrix([\n",
       "[1, 2],\n",
       "[3, 4]])"
      ]
     },
     "execution_count": 165,
     "metadata": {},
     "output_type": "execute_result"
    }
   ],
   "source": [
    "# Pendefinisian Matriks\n",
    "A = sp.Matrix([[1, 2], [3, 4]])\n",
    "A"
   ]
  },
  {
   "cell_type": "code",
   "execution_count": 166,
   "id": "12898c06",
   "metadata": {},
   "outputs": [
    {
     "data": {
      "text/latex": [
       "$\\displaystyle -2$"
      ],
      "text/plain": [
       "-2"
      ]
     },
     "execution_count": 166,
     "metadata": {},
     "output_type": "execute_result"
    }
   ],
   "source": [
    "# Menghitung determinan dari matriks A\n",
    "det_A = A.det()\n",
    "det_A"
   ]
  },
  {
   "cell_type": "markdown",
   "id": "5985a319",
   "metadata": {},
   "source": [
    "`.inv()`\n",
    "\n",
    "Fungsi ini digunakan untuk menghitung invers dari sebuah matriks. "
   ]
  },
  {
   "cell_type": "code",
   "execution_count": 167,
   "id": "0d8db2f4",
   "metadata": {},
   "outputs": [
    {
     "data": {
      "text/latex": [
       "$\\displaystyle \\left[\\begin{matrix}1 & 2\\\\3 & 4\\end{matrix}\\right]$"
      ],
      "text/plain": [
       "Matrix([\n",
       "[1, 2],\n",
       "[3, 4]])"
      ]
     },
     "execution_count": 167,
     "metadata": {},
     "output_type": "execute_result"
    }
   ],
   "source": [
    "# Pendefinisian Matriks\n",
    "A = sp.Matrix([[1, 2], [3, 4]])\n",
    "A"
   ]
  },
  {
   "cell_type": "code",
   "execution_count": 168,
   "id": "9e6e3207",
   "metadata": {},
   "outputs": [
    {
     "data": {
      "text/latex": [
       "$\\displaystyle y{\\left(t \\right)} = C_{1} \\sin{\\left(t \\right)} + C_{2} \\cos{\\left(t \\right)}$"
      ],
      "text/plain": [
       "Eq(y(t), C1*sin(t) + C2*cos(t))"
      ]
     },
     "execution_count": 168,
     "metadata": {},
     "output_type": "execute_result"
    }
   ],
   "source": [
    "# Penyelesaian persamaan difrensial\n",
    "solution = sp.dsolve(equation, y)\n",
    "solution"
   ]
  },
  {
   "cell_type": "markdown",
   "id": "af5a8f4f",
   "metadata": {},
   "source": [
    "Matrix Multiplication\n",
    "\n",
    "Perkalian matriks dilakukan dengan `*`, menghasilkanmatriks baru yang merupakan hasil dari\n",
    "perkalian dua matriks."
   ]
  },
  {
   "cell_type": "code",
   "execution_count": 169,
   "id": "65f31f2c",
   "metadata": {},
   "outputs": [
    {
     "data": {
      "text/latex": [
       "$\\displaystyle \\left[\\begin{matrix}19 & 22\\\\43 & 50\\end{matrix}\\right]$"
      ],
      "text/plain": [
       "Matrix([\n",
       "[19, 22],\n",
       "[43, 50]])"
      ]
     },
     "execution_count": 169,
     "metadata": {},
     "output_type": "execute_result"
    }
   ],
   "source": [
    "# Pendefinisian Matriks\n",
    "A = sp.Matrix([[1, 2], [3, 4]])\n",
    "B = sp.Matrix([[5, 6], [7, 8]])\n",
    "# Perkalian matriks A dan B\n",
    "mat_mul = A * B\n",
    "mat_mul"
   ]
  }
 ],
 "metadata": {
  "kernelspec": {
   "display_name": "pt-gpu",
   "language": "python",
   "name": "python3"
  },
  "language_info": {
   "codemirror_mode": {
    "name": "ipython",
    "version": 3
   },
   "file_extension": ".py",
   "mimetype": "text/x-python",
   "name": "python",
   "nbconvert_exporter": "python",
   "pygments_lexer": "ipython3",
   "version": "3.12.10"
  }
 },
 "nbformat": 4,
 "nbformat_minor": 5
}
