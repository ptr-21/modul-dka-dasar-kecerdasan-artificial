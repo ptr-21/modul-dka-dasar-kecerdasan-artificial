{
 "cells": [
  {
   "cell_type": "markdown",
   "metadata": {},
   "source": [
    "import numpy"
   ]
  },
  {
   "cell_type": "code",
   "execution_count": 2,
   "metadata": {},
   "outputs": [],
   "source": [
    "import numpy as np\n",
    "#numpy adalah library kalo np itu variabelnya bebas diganti sesuka hati"
   ]
  },
  {
   "cell_type": "markdown",
   "metadata": {},
   "source": [
    "ilustrasi perbedaan pakai list dengan numpy"
   ]
  },
  {
   "cell_type": "code",
   "execution_count": 3,
   "metadata": {},
   "outputs": [],
   "source": [
    "\"\"\"array biasa\"\"\"\n",
    "x = [1,2,5]\n",
    "\"\"\"pakai numpy\"\"\"\n",
    "x = np.array([1, 2, 3])\n",
    "#memanggil np dan array\n"
   ]
  },
  {
   "cell_type": "markdown",
   "metadata": {},
   "source": [
    "Operasi Matematika Array"
   ]
  },
  {
   "cell_type": "code",
   "execution_count": 4,
   "metadata": {},
   "outputs": [
    {
     "name": "stdout",
     "output_type": "stream",
     "text": [
      "Pakai biasa\n",
      "[12, 13, 16]\n",
      "\n",
      "Pakai numpy\n",
      "[5 7 9]\n",
      "[5, 7, 9]\n"
     ]
    }
   ],
   "source": [
    "a = [5, 5, 7]\n",
    "b = [ 7,8,9]\n",
    "print(\"Pakai biasa\")\n",
    "c = [x + y for x, y in zip(a, b)]\n",
    "print(c)\n",
    "print()\n",
    "\n",
    "print(\"Pakai numpy\")\n",
    "a = np.array([1, 2, 3]) + ([4, 5, 6])\n",
    "print(a)\n",
    "print(a.tolist()) \n",
    "# .tolist agar bisa diberikan koma setiap value tmpt yang beda"
   ]
  },
  {
   "cell_type": "markdown",
   "metadata": {},
   "source": [
    "penggabungan array atau tambah elemen dengan +"
   ]
  },
  {
   "cell_type": "code",
   "execution_count": 5,
   "metadata": {},
   "outputs": [
    {
     "name": "stdout",
     "output_type": "stream",
     "text": [
      "[1, 2, 3, 4, 5, 6, 7, 8]\n"
     ]
    }
   ],
   "source": [
    "x = [1, 2, 3, 4]\n",
    "y = [5, 6, 7, 8]\n",
    "z = x + y\n",
    "print(z)"
   ]
  },
  {
   "cell_type": "markdown",
   "metadata": {},
   "source": [
    "penambahan elemen"
   ]
  },
  {
   "cell_type": "code",
   "execution_count": 6,
   "metadata": {},
   "outputs": [
    {
     "name": "stdout",
     "output_type": "stream",
     "text": [
      "Kondisi awal array x : [1, 2, 3, 4]\n",
      "Kondisi akhir array x : [1, 2, 3, 4, 5, 6, 7, 8, 9]\n",
      "[1 2 3 4 5 6 7 8]\n"
     ]
    }
   ],
   "source": [
    "\"\"\"dengan list (biasa)\"\"\"\n",
    "xlist = [1, 2, 3, 4]\n",
    "print(\"Kondisi awal array x :\", xlist)\n",
    "xlist.extend([5,6,7,8])\n",
    "xlist.append(9) #append hanya menerima satu inputan saja\n",
    "print(\"Kondisi akhir array x :\", xlist)\n",
    "\n",
    "\"\"\"dengan numpy\"\"\"\n",
    "x = np.array([1, 2, 3, 4])\n",
    "y = np.array([5, 6, 7, 8])\n",
    "z = np.concatenate((x, y))\n",
    "print(z)"
   ]
  },
  {
   "cell_type": "markdown",
   "metadata": {},
   "source": [
    "fungsi ndim : menghitung jumlah array\n",
    "fungsi shape : menghitung jumlah baris dan kolom\n",
    "fungsi size : menghitung jumlah seluruh elemen\n",
    "fungsi dtype : mengetahui tipe data yang digunakan\n"
   ]
  },
  {
   "cell_type": "code",
   "execution_count": 7,
   "metadata": {},
   "outputs": [
    {
     "name": "stdout",
     "output_type": "stream",
     "text": [
      "Dimensi array x: 2\n",
      "Dimensi array x: 3\n",
      "Dimensi array x: 4\n",
      "Shape x2d: (2, 3)\n",
      "Shape x3d: (2, 2, 3)\n",
      "Shape x4d: (2, 2, 2, 1)\n",
      "size x2d: 6\n",
      "size x3d: 12\n",
      "size x4d: 8\n",
      "tipe data x2 =  float64\n",
      "tipe data x3 =  int64\n"
     ]
    },
    {
     "data": {
      "text/plain": [
       "'\\nmisal kalo hasilnya (2, 2, 2, 1) artinya\\nada 2 balok utama, setiap balok berisi 2 matriks, setiap matriks berisi 2 baris, dan setiap baris memiliki 1 angka\\n'"
      ]
     },
     "execution_count": 7,
     "metadata": {},
     "output_type": "execute_result"
    }
   ],
   "source": [
    "x2d = np.array([[1, 2, 3], [4, 5, 6]])\n",
    "\n",
    "x3d = np.array([[[7, 8, 9], [10, 11, 12]], [[13, 14, 15], [16, 17,\n",
    "18]]])\n",
    "x4d = np.array([[[[1], [2]], [[3], [4]]], [[[5], [6]], [[7], [8]]]])\n",
    "print(\"Dimensi array x:\", x2d.ndim)\n",
    "print(\"Dimensi array x:\", x3d.ndim)\n",
    "print(\"Dimensi array x:\", x4d.ndim)\n",
    "\"\"\"cara menghitung array itu dimulai dari angka (value)\n",
    "hingga -1 siku\"\"\"\n",
    "print(\"Shape x2d:\", x2d.shape)\n",
    "print(\"Shape x3d:\", x3d.shape)\n",
    "print(\"Shape x4d:\", x4d.shape)\n",
    "\"\"\"\n",
    "penjelasan\n",
    "[[1], [2]] -> 2 balok utamaa\n",
    "1], [2 -> 2 matriks\n",
    "[1], [2] -> setiap matriks berisi 2 baris dan 1 angka\n",
    "\n",
    "\"\"\"\n",
    "#size\n",
    "print(\"size x2d:\", x2d.size)\n",
    "print(\"size x3d:\", x3d.size)\n",
    "print(\"size x4d:\", x4d.size)\n",
    "x2 = np.array([5.7])\n",
    "x3 = np.array([5])\n",
    "print(\"tipe data x2 = \", x2.dtype)\n",
    "print(\"tipe data x3 = \", x3.dtype)\n",
    "\"\"\"\n",
    "misal kalo hasilnya (2, 2, 2, 1) artinya\n",
    "ada 2 balok utama, setiap balok berisi 2 matriks, setiap matriks berisi 2 baris, dan setiap baris memiliki 1 angka\n",
    "\"\"\""
   ]
  },
  {
   "cell_type": "markdown",
   "metadata": {},
   "source": [
    "Deklarasi Array dengan NumPy\n"
   ]
  },
  {
   "cell_type": "code",
   "execution_count": 8,
   "metadata": {},
   "outputs": [
    {
     "name": "stdout",
     "output_type": "stream",
     "text": [
      "[[0. 0. 0.]\n",
      " [0. 0. 0.]]\n",
      "[[1. 1. 1. 1.]\n",
      " [1. 1. 1. 1.]\n",
      " [1. 1. 1. 1.]]\n",
      "[[4.9e-324 9.9e-324]\n",
      " [1.5e-323 2.0e-323]]\n",
      "[0 2 4 6 8]\n",
      "[0.   0.25 0.5  0.75 1.  ]\n",
      "[[7 7]\n",
      " [7 7]]\n",
      "[[0.70025341 0.16828681 0.67544161]\n",
      " [0.9490998  0.53877113 0.01117848]]\n",
      "[[0 6 1 3]\n",
      " [8 5 1 3]\n",
      " [0 5 6 0]]\n",
      "[[0 1 2]\n",
      " [1 2 3]\n",
      " [2 3 4]]\n"
     ]
    }
   ],
   "source": [
    "x = np.zeros((2, 3))\n",
    "print(x)\n",
    "# membuat array dengan bentuk 2 baris 3 kolom\n",
    "# tapi mengisi semua elemen dengan nilai nol\n",
    "x = np.ones((3, 4))\n",
    "print(x) \n",
    "# membuat array dengan bentuk 2 baris 3 kolom\n",
    "# tapi mengisi semua elemen dengan nilai 1\n",
    "x = np.empty((2, 2))\n",
    "print(x)\n",
    "# membuat array dengan bentuk 2 baris 2 kolom\n",
    "# tapi random karena tdk di inisialisasi\n",
    "x = np.arange(0, 10, 2) # dari 0 hingga 10 dan setiap 2 angka loopnya\n",
    "print(x)\n",
    "#membuat urutan array mulai dari 0 hingga kurang dari 10 dengan\n",
    "# interval 2 (interval tertentu)\n",
    "x = np.linspace(0, 1, 5)\n",
    "print(x)\n",
    "#membuat array dengan 5 nilai yang terdistribusi secara \n",
    "#merata dari 0 hingga 1\n",
    "x = np.full((2, 2), 7)\n",
    "print(x)\n",
    "#2 baris 2 kolom dengan angka 7\n",
    "x = np.random.random((2, 3))\n",
    "print(x)\n",
    "#2 baris 3 kolom dengan angka acak\n",
    "x = np.random.randint(0, 10, size=(3, 4))\n",
    "print(x)\n",
    "#acak nilai nya 0 sampai 10 tapi 3 baris 4 kolom\n",
    "def penjumlahan(bilangan1, bilangan2):\n",
    "    return bilangan1 + bilangan2\n",
    "x = np.fromfunction(penjumlahan, (3, 3), dtype=int)\n",
    "print(x)\n",
    "#membuat array 3 baris 3 kolom tapi diurutkan\n",
    "#dengan cara dimulai dari 0 hingga nilai max perbaris\n",
    "#lalu lanjut dengan menghilangkan angka terkecil di baris sblmnya"
   ]
  },
  {
   "cell_type": "markdown",
   "metadata": {},
   "source": [
    "Penambahan Elemen Array dari beberapa dimensi"
   ]
  },
  {
   "cell_type": "code",
   "execution_count": 9,
   "metadata": {},
   "outputs": [
    {
     "name": "stdout",
     "output_type": "stream",
     "text": [
      "1D array setelah append:\n",
      " [1 2 3 4 5]\n",
      "2D array setelah append:\n",
      " [[1 2]\n",
      " [3 4]\n",
      " [5 6]]\n",
      "1D array setelah concatenate:\n",
      " [1 2 3 4]\n",
      "2D array setelah concatenate:\n",
      " [[1 2]\n",
      " [3 4]\n",
      " [5 6]]\n",
      "1D array setelah insert:\n",
      " [1 4 2 3]\n",
      "2D array setelah insert:\n",
      " [[5 6]\n",
      " [1 2]\n",
      " [3 4]]\n",
      "1D array setelah stack:\n",
      " [[1 2 3]\n",
      " [4 5 6]]\n",
      "Shape dari array c: (2, 3)\n",
      "2D array setelah stack:\n",
      " [[[1 2]\n",
      "  [3 4]]\n",
      "\n",
      " [[5 6]\n",
      "  [7 8]]]\n",
      "Shape dari array z: (2, 2, 2)\n"
     ]
    }
   ],
   "source": [
    "\"\"\"tambah data tanpa dari var lain\"\"\"\n",
    "#1D\n",
    "a = np.array([1, 2, 3])\n",
    "a = np.append(a, [4, 5]) # a lalu ditambahkan array pnmbhn\n",
    "print(\"1D array setelah append:\\n\", a)\n",
    "#2D\n",
    "x = np.array([[1, 2], [3, 4]])\n",
    "x = np.append(x, [[5, 6]], axis=0) # x lalu ditambahkan array pnmbhn\n",
    "print(\"2D array setelah append:\\n\", x)\n",
    "\n",
    "\"\"\"tambah data dari var lain pakai concacenate\"\"\"\n",
    "#1D\n",
    "a = np.array([1, 2])\n",
    "b = np.array([3, 4])\n",
    "c = np.concatenate((a, b))\n",
    "print(\"1D array setelah concatenate:\\n\", c)\n",
    "#2D\n",
    "x = np.array([[1, 2], [3, 4]])\n",
    "y = np.array([[5, 6]])\n",
    "z = np.concatenate((x, y), axis=0)\n",
    "print(\"2D array setelah concatenate:\\n\", z)\n",
    "\n",
    "\"\"\"pakai insert, berguna ingin menambahkan\n",
    "    data tetapi tata letak sesuai keinginan\"\"\"\n",
    "#1D\n",
    "a = np.array([1, 2, 3])\n",
    "a = np.insert(a, 1, 4) # Insert '4' pada index 1\n",
    "print(\"1D array setelah insert:\\n\", a)\n",
    "#2D\n",
    "x = np.array([[1, 2], [3, 4]])\n",
    "x = np.insert(x, 0, [5, 6], axis=0) # Insert baris [5, 6] index 0\n",
    "print(\"2D array setelah insert:\\n\", x)\n",
    "\n",
    "\"\"\"tambah data dari var lain pakai npstack\n",
    "    walau cara kerjanya mirip dan fungsinya sama\n",
    "\"\"\"\n",
    "# stack pada array 1D\n",
    "a = np.array([1, 2, 3])\n",
    "b = np.array([4, 5, 6])\n",
    "c = np.stack((a, b))\n",
    "print(\"1D array setelah stack:\\n\", c)\n",
    "print(\"Shape dari array c:\", c.shape)\n",
    "# stack pada array 2D\n",
    "x = np.array([[1, 2], [3, 4]])\n",
    "y = np.array([[5, 6], [7, 8]])\n",
    "z = np.stack((x, y))\n",
    "print(\"2D array setelah stack:\\n\", z)\n",
    "print(\"Shape dari array z:\", z.shape)"
   ]
  },
  {
   "cell_type": "markdown",
   "metadata": {},
   "source": [
    "penghapusan elemen array"
   ]
  },
  {
   "cell_type": "code",
   "execution_count": 10,
   "metadata": {},
   "outputs": [
    {
     "name": "stdout",
     "output_type": "stream",
     "text": [
      "[1 2 3 5]\n",
      "[[1 3]\n",
      " [4 6]\n",
      " [7 9]]\n",
      "[[1 3]\n",
      " [7 9]]\n",
      "[1. 2. 3.]\n",
      "[1 2 3 4 5 7 8 9]\n"
     ]
    }
   ],
   "source": [
    "\"\"\"`np.delete()` untuk menghapus elemen pada array 1D\"\"\"\n",
    "x = np.array([1, 2, 3, 4, 5])\n",
    "\n",
    "x = np.delete(x, 3)# x = nama variabel array, 3 = hapus index ke 3\n",
    "print(x)\n",
    "\n",
    "x = np.array([[1, 2, 3], [4, 5, 6], [7, 8, 9]])\n",
    "x = np.delete(x, 1, axis=1)  # hapus kolom indeks 1 (kolom kekedua)\n",
    "print(x)\n",
    "x = np.delete(x, 1, axis=0) # hapus indeks 1 (baris kedua)\n",
    "print(x)\n",
    "\n",
    "x = np.array([1, 2, 3, 4, 5])\n",
    "\n",
    "x = np.where(x > 3, np.nan, x)\n",
    "#ketika dimana x lebih besar dari 3\n",
    "# Mengganti elemen yang lebih besar dari 3 dengan nan\n",
    "x = x[~np.isnan(x)]\n",
    "# Menghapus elemen NaN dari array (fungsi insannya)\n",
    "print(x)\n",
    "\n",
    "\n",
    "x = np.array([[1, 2, 3], [4, 5, 6], [7, 8, 9]])\n",
    "hasil = np.delete(x,5)\n",
    "\n",
    "#hasil = hasil.reshape(3,-1)\n",
    "\"\"\"akan menghasilkan error jadi tidak bisa hapus 1 value dalam\n",
    "    array, mau tidak mau kalo hapus 1 value jadi array 1d\"\"\"\n",
    "print(hasil)"
   ]
  },
  {
   "cell_type": "markdown",
   "metadata": {},
   "source": [
    "mengurutkan array"
   ]
  },
  {
   "cell_type": "code",
   "execution_count": 11,
   "metadata": {},
   "outputs": [
    {
     "name": "stdout",
     "output_type": "stream",
     "text": [
      "Array yang telah diurutkan: [1 2 3]\n",
      "Array yang telah diurutkan: [1 2 3]\n",
      "Array yang telah diurutkan sepanjang kolom:\n",
      " [[3 1 2]\n",
      " [9 7 8]]\n",
      "Array yang telah diurutkan sepanjang baris:\n",
      " [[1 2 3]\n",
      " [7 8 9]]\n"
     ]
    }
   ],
   "source": [
    "#1. pakai np.sort()\n",
    "x = np.array([3, 1, 2])\n",
    "y = np.sort(x) #panggil fungsi sort\n",
    "print(\"Array yang telah diurutkan:\", y)\n",
    "\n",
    "#2. array.sort()\n",
    "x = np.array([3, 1, 2])\n",
    "x.sort() # elemen array diurutkan secara langsung di dalam array asli\n",
    "print(\"Array yang telah diurutkan:\", x)\n",
    "\n",
    "#3. np.sort() utk lebih dri 1d\n",
    "x = np.array([[3, 1, 2], [9, 7, 8]])\n",
    "y = np.sort(x, axis=0) # Mengurutkan sepanjang kolom dahulu\n",
    "print(\"Array yang telah diurutkan sepanjang kolom:\\n\", y)\n",
    "z = np.sort(x) # baru Mengurutkan sepanjang baris\n",
    "print(\"Array yang telah diurutkan sepanjang baris:\\n\", z)"
   ]
  },
  {
   "cell_type": "markdown",
   "metadata": {},
   "source": [
    "Indexing dan Slicing Array"
   ]
  },
  {
   "cell_type": "code",
   "execution_count": 12,
   "metadata": {},
   "outputs": [
    {
     "name": "stdout",
     "output_type": "stream",
     "text": [
      "30\n",
      "[20 30 40]\n",
      "Hasil boolean dari masking: [False False  True  True  True]\n",
      "Hasil elemen: [30 40 50]\n",
      "[20 40]\n",
      "6\n",
      "9\n",
      "[4 5 6]\n",
      "[[2 3]\n",
      " [8 9]]\n"
     ]
    }
   ],
   "source": [
    "x = np.array([10, 20, 30, 40, 50])\n",
    "print(x[2])\n",
    "#cari val di index 2\n",
    "\n",
    "x = np.array([10, 20, 30, 40, 50])\n",
    "# Slicing untuk mendapatkan elemen dari indeks 1 sampai 3\n",
    "subset = x[1:4]\n",
    "print(subset)\n",
    "#cari val di index 1 hgg 4\n",
    "\n",
    "x = np.array([10, 20, 30, 40, 50])\n",
    "# Boolean mask untuk memilih elemen yang lebih besar dari 25\n",
    "mask = x > 25\n",
    "print(\"Hasil boolean dari masking:\", mask)\n",
    "subset = x[mask]\n",
    "print(\"Hasil elemen:\", subset)\n",
    "#print 1 menhgasilkan boolean jk lbh 25 maka true\n",
    "#print 2 plh elemen lbh 25\n",
    "\n",
    "\n",
    "x = np.array([10, 20, 30, 40, 50])\n",
    "# Array indeks\n",
    "indeks = [1, 3]\n",
    "subset = x[indeks]\n",
    "print(subset)\n",
    "#hasilkan val di index 1 dn 3 pada 1 dimensi\n",
    "\n",
    "\"\"\"2d\"\"\"\n",
    "x = np.array([[1, 2, 3], [4, 5, 6], [7, 8, 9]])\n",
    "element = x[1, 2]\n",
    "print(element)\n",
    "# Mengakses elemen pada baris ke-2 (index 1) dan kolom ke-3 (index 2)\n",
    "element = x[2, 2]\n",
    "print(element)\n",
    "# Mengakses elemen pada baris ke-3 (index 2) dan kolom ke-3 (index 2)\n",
    "\n",
    "x = np.array([[1, 2, 3], [4, 5, 6], [7, 8, 9]])\n",
    "subset = x[1, ...]\n",
    "print(subset)\n",
    "# Mengakses semua elemen pada baris ke-1\n",
    "\n",
    "x = np.array([[1, 2, 3], [4, 5, 6], [7, 8, 9]])\n",
    "# Indeks baris dan kolom\n",
    "rows = [0, 2] #baris 1 dan 3 (index 0 dan 2)\n",
    "cols = [1, 2] #ambil kolom index 1 dan 2 (kolom 2 dan 3)\n",
    "subset = x[np.ix_(rows, cols)]\n",
    "print(subset)\n"
   ]
  },
  {
   "cell_type": "markdown",
   "metadata": {},
   "source": [
    "Penyalinan (Copy) Array"
   ]
  },
  {
   "cell_type": "code",
   "execution_count": 13,
   "metadata": {},
   "outputs": [
    {
     "name": "stdout",
     "output_type": "stream",
     "text": [
      "Array asli: [99  2  3  4  5]\n",
      "Shallow copy: [99  2  3  4  5]\n",
      "Array asli: [1 2 3 4 5]\n",
      "Deep copy: [99  2  3  4  5]\n"
     ]
    }
   ],
   "source": [
    "#shallow copy atau view()\n",
    "#tidak membuat copy seperti hard yang beda memori dan maka dari itu\n",
    "#karena dia refrence bukan salin individu jadi refrence pada\n",
    "#memori yang sama\n",
    "x = np.array([1, 2, 3, 4, 5])\n",
    "# Membuat shallow copy menggunakan view()\n",
    "y = x.view()\n",
    "# Mengubah elemen pertama dari shallow copy\n",
    "y[0] = 99\n",
    "print(\"Array asli:\", x)\n",
    "print(\"Shallow copy:\", y)\n",
    "\n",
    "#Copy, berbeda dengan shallow dia tidak refrence\n",
    "x = np.array([1, 2, 3, 4, 5])\n",
    "# Membuat deep copy menggunakan copy()\n",
    "y = x.copy()\n",
    "# Mengubah elemen pertama dari deep copy\n",
    "y[0] = 99\n",
    "print(\"Array asli:\", x)\n",
    "print(\"Deep copy:\", y)\n"
   ]
  },
  {
   "cell_type": "markdown",
   "metadata": {},
   "source": [
    "Operasi Deep Array\n",
    "mencari jumlah maksimum, minimum, sum, rata rata\n",
    "maksimum = max\n",
    "minimum = min\n",
    "sum\n",
    "rata rata = mean"
   ]
  },
  {
   "cell_type": "code",
   "execution_count": 14,
   "metadata": {},
   "outputs": [
    {
     "name": "stdout",
     "output_type": "stream",
     "text": [
      "Nilai maksimum: 8\n",
      "Nilai minimum: 1\n",
      "Jumlah total: 19\n",
      "Rata-rata: 3.8\n"
     ]
    }
   ],
   "source": [
    "x = np.array([1, 5, 3, 8, 2])\n",
    "max_value = np.max(x)\n",
    "print(\"Nilai maksimum:\", max_value)\n",
    "\n",
    "min_value = np.min(x)\n",
    "print(\"Nilai minimum:\", min_value)\n",
    "\n",
    "sum_value = np.sum(x)\n",
    "print(\"Jumlah total:\", sum_value)\n",
    "\n",
    "mean_value = np.mean(x)\n",
    "print(\"Rata-rata:\", mean_value)"
   ]
  },
  {
   "cell_type": "markdown",
   "metadata": {},
   "source": [
    "Transpose dan Reshape Array"
   ]
  },
  {
   "cell_type": "code",
   "execution_count": 15,
   "metadata": {},
   "outputs": [
    {
     "name": "stdout",
     "output_type": "stream",
     "text": [
      "[[1 4]\n",
      " [2 5]\n",
      " [3 6]]\n",
      "[[1 4]\n",
      " [2 5]\n",
      " [3 6]]\n",
      "[[1 4]\n",
      " [2 5]\n",
      " [3 6]]\n",
      "[[1 2 3]\n",
      " [4 5 6]]\n",
      "[[1 2 3]\n",
      " [4 5 6]]\n"
     ]
    }
   ],
   "source": [
    "\"\"\"fungsi transpose ini bisa digunakan untuk menampilkan\n",
    "    satu baris dalam satu kolom\"\"\"\n",
    "#transpose()\n",
    "x = np.array([[1, 2, 3], [4, 5, 6]])\n",
    "y = x.transpose()\n",
    "print(y)\n",
    "#np.transpose() sama aja fungsinya\n",
    "x = np.array([[1, 2, 3], [4, 5, 6]])\n",
    "y = np.transpose(x)\n",
    "print(y)\n",
    "#T` untuk transpose sama aja fungsinya\n",
    "x = np.array([[1, 2, 3], [4, 5, 6]])\n",
    "y = x.T\n",
    "print(y)\n",
    "\n",
    "\n",
    "\"\"\" Reshape\n",
    "    -> mengubah bentuk array misal 2 dimensi bisa dijadikan\n",
    "    3 dimensi atau 1 dimensi bisa dijadikan 3 dimensi dsb\n",
    "\"\"\"\n",
    "x = np.array([1, 2, 3, 4, 5, 6])\n",
    "y = x.reshape((2, 3)) # 2baris 3 kolom\n",
    "print(y)\n",
    "\n",
    "#sama aja bedanya pake np doang\n",
    "x = np.array([1, 2, 3, 4, 5, 6])\n",
    "# Mengubah menjadi array 2D dengan 2 baris dan 3 kolom\n",
    "y = np.reshape(x, (2, 3))\n",
    "print(y)"
   ]
  }
 ],
 "metadata": {
  "kernelspec": {
   "display_name": "Python 3",
   "language": "python",
   "name": "python3"
  },
  "language_info": {
   "codemirror_mode": {
    "name": "ipython",
    "version": 3
   },
   "file_extension": ".py",
   "mimetype": "text/x-python",
   "name": "python",
   "nbconvert_exporter": "python",
   "pygments_lexer": "ipython3",
   "version": "3.13.2"
  }
 },
 "nbformat": 4,
 "nbformat_minor": 2
}
