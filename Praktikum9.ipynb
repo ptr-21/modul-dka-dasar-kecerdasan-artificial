{
 "cells": [
  {
   "cell_type": "markdown",
   "id": "080af0a7",
   "metadata": {},
   "source": [
    "RUMUS ECLUDIAN\n",
    "\n",
    "akar((x2-x1)kuadrat + (y2-y1)kuadrat)"
   ]
  },
  {
   "cell_type": "markdown",
   "id": "6e18e3a6",
   "metadata": {},
   "source": [
    "Import library"
   ]
  },
  {
   "cell_type": "code",
   "execution_count": 1,
   "id": "51b63825",
   "metadata": {},
   "outputs": [],
   "source": [
    "import random\n",
    "import math"
   ]
  },
  {
   "cell_type": "markdown",
   "id": "e67e70e0",
   "metadata": {},
   "source": [
    "Deklarasi function"
   ]
  },
  {
   "cell_type": "code",
   "execution_count": null,
   "id": "59c49dcc",
   "metadata": {},
   "outputs": [],
   "source": [
    "def distance(city1, city2):\n",
    "    return math.sqrt((city1[0] - city2[0]) ** 2 + (city1[1] - city2[1]) ** 2)\n",
    "def total_distance(tour, cities):\n",
    "    dist = 0\n",
    "    for i in range(len(tour)):\n",
    "        dist += distance(cities[tour[i]], cities[tour[(i + 1) % len(tour)]])\n",
    "    return dist\n",
    "def random_swap(tour):\n",
    "    new_tour = tour [:]\n",
    "    i, j = random.sample(range(len(tour)), 2)\n",
    "    new_tour[i], new_tour[j] = new_tour[j], new_tour[i]\n",
    "    return new_tour\n"
   ]
  },
  {
   "cell_type": "markdown",
   "id": "ee68bb87",
   "metadata": {},
   "source": [
    "simulated annealing Algorithm"
   ]
  },
  {
   "cell_type": "code",
   "execution_count": 3,
   "id": "9367b540",
   "metadata": {},
   "outputs": [
    {
     "name": "stdout",
     "output_type": "stream",
     "text": [
      "Solusi terbaik (urutan kota): [0, 5, 1, 2, 6, 7, 3, 4]\n",
      "Total jarak terbaik: 24.552175979831862\n"
     ]
    }
   ],
   "source": [
    "def simulated_annealing(cities, initial_temp, cooling_rate, stopping_temp):\n",
    "    current_solution = list(range(len(cities)))\n",
    "    random.shuffle(current_solution)\n",
    "    current_distance = total_distance(current_solution, cities)\n",
    "    best_solution = current_solution[:]\n",
    "    best_distance = current_distance\n",
    "    temp = initial_temp\n",
    "    while temp > stopping_temp:\n",
    "        new_solution = random_swap(current_solution)\n",
    "        new_distance = total_distance(new_solution, cities)\n",
    "        if new_distance < current_distance:\n",
    "            current_solution = new_solution[:]\n",
    "            current_distance = new_distance\n",
    "        else:\n",
    "            if random.random() < math.exp((current_distance - new_distance)/temp):\n",
    "                current_solution = new_solution[:]\n",
    "                current_distance = new_distance\n",
    "        if current_distance < best_distance:\n",
    "            best_solution = current_solution[:]\n",
    "            best_distance = current_distance\n",
    "        temp *= cooling_rate\n",
    "    return best_solution, best_distance\n",
    "cities = [\n",
    "    (0, 0), (1, 3), (4, 3), (6, 1),\n",
    "    (3, 0), (2, 2), (5, 5), (7, 7)\n",
    "]\n",
    "init = 10000\n",
    "Cooling = 0.995 \n",
    "Stop = 1 \n",
    "best_solution, best_distance = simulated_annealing(cities, init, Cooling, Stop)\n",
    "print(\"Solusi terbaik (urutan kota):\", best_solution)\n",
    "print(\"Total jarak terbaik:\", best_distance)"
   ]
  }
 ],
 "metadata": {
  "kernelspec": {
   "display_name": "tf-gpu-cuda",
   "language": "python",
   "name": "python3"
  },
  "language_info": {
   "codemirror_mode": {
    "name": "ipython",
    "version": 3
   },
   "file_extension": ".py",
   "mimetype": "text/x-python",
   "name": "python",
   "nbconvert_exporter": "python",
   "pygments_lexer": "ipython3",
   "version": "3.10.16"
  }
 },
 "nbformat": 4,
 "nbformat_minor": 5
}
