{
 "cells": [
  {
   "cell_type": "code",
   "execution_count": 7,
   "id": "41233427",
   "metadata": {},
   "outputs": [],
   "source": [
    "import networkx as nx\n",
    "import matplotlib.pyplot as plt "
   ]
  },
  {
   "cell_type": "code",
   "execution_count": 8,
   "id": "192e7b43",
   "metadata": {},
   "outputs": [],
   "source": [
    "def show_graph(G, pos=None, title='', labels={}) :\n",
    "    if pos is None:\n",
    "        pos = nx.spring_layout(G)\n",
    "    nx.draw(\n",
    "        G, # Graf NetworkX\n",
    "        pos, # Posisi node\n",
    "        with_labels=True, # Menampilkan nama node\n",
    "        labels=labels, # Menampilkan label setiap node\n",
    "        node_color='red', # Warna node\n",
    "        node_size=2000, # Ukuran node\n",
    "        font_color=\"white\", # Warna font label node\n",
    "        font_weight=\"bold\", # Ketebalan font label node\n",
    "        width=5\n",
    "    )\n",
    "    edge_labels = nx.get_edge_attributes(G, 'weight')\n",
    "    nx.draw_networkx_edge_labels(\n",
    "        G,\n",
    "        pos,\n",
    "        edge_labels=edge_labels, # Data weight\n",
    "        font_color='blue', # Warna font label edge\n",
    "        font_weight=\"bold\", # Berat font label edge\n",
    "        font_size=12, # Ukuran font label edge \n",
    "\n",
    "    )\n",
    "    plt.margins(0.2) # Memberikan margin pada plot\n",
    "    plt.title(title) # Menampilkan judul graf jika diberikan\n",
    "    plt.show()"
   ]
  },
  {
   "cell_type": "code",
   "execution_count": 9,
   "id": "cc7a4532",
   "metadata": {},
   "outputs": [],
   "source": [
    "pos = {\n",
    "    'A': (0, 1),\n",
    "    'B': (1, 2),\n",
    "    'C': (1, 0),\n",
    "    'D': (2, 3),\n",
    "    'E': (2, 1.5),\n",
    "    'F': (2, 0)\n",
    "}"
   ]
  },
  {
   "cell_type": "code",
   "execution_count": 10,
   "id": "c414e78f",
   "metadata": {},
   "outputs": [],
   "source": [
    "G = nx.DiGraph()"
   ]
  },
  {
   "cell_type": "code",
   "execution_count": 11,
   "id": "95453ad2",
   "metadata": {},
   "outputs": [],
   "source": [
    "edges = [\n",
    "    ('A', 'B', 0), ('A', 'C', 0),\n",
    "    ('B', 'D', 0), ('B', 'E', 0),\n",
    "    ('C', 'E', 0), ('C', 'F', 0),\n",
    "    ('E', 'D', 0), ('E', 'F', 0)\n",
    "]\n",
    "G.add_weighted_edges_from(edges)"
   ]
  },
  {
   "cell_type": "code",
   "execution_count": 12,
   "id": "aa2bcb82",
   "metadata": {},
   "outputs": [
    {
     "name": "stdout",
     "output_type": "stream",
     "text": [
      "Elemen pada Graf:\n",
      "Daftar Node pada Graf: ['A', 'B', 'C', 'D', 'E', 'F']\n",
      "Daftar Edge pada Graf: [('A', 'B'), ('A', 'C'), ('B', 'D'), ('B', 'E'), ('C', 'E'), ('C', 'F'), ('E', 'D'), ('E', 'F')]\n",
      "Jumlah Node pada Graf 6\n",
      "Jumlah Edge pada Graf 8\n"
     ]
    }
   ],
   "source": [
    "print(\"Elemen pada Graf:\")\n",
    "print(\"Daftar Node pada Graf:\", G.nodes())\n",
    "print(\"Daftar Edge pada Graf:\", G.edges())\n",
    "print(\"Jumlah Node pada Graf\", G.number_of_nodes())\n",
    "print(\"Jumlah Edge pada Graf\", G.number_of_edges())"
   ]
  },
  {
   "cell_type": "code",
   "execution_count": 13,
   "id": "c87f0ade",
   "metadata": {},
   "outputs": [],
   "source": [
    "labels = {node: node for node in G.nodes()}\n",
    "labels['A'] = 'A\\nStart'\n",
    "labels['F'] = 'F\\nGoal'"
   ]
  },
  {
   "cell_type": "code",
   "execution_count": 14,
   "id": "10333548",
   "metadata": {},
   "outputs": [
    {
     "data": {
      "image/png": "[encoded data removed]",
      "text/plain": [
       "<Figure size 640x480 with 1 Axes>"
      ]
     },
     "metadata": {},
     "output_type": "display_data"
    }
   ],
   "source": [
    "show_graph(G, pos=pos, labels=labels)"
   ]
  },
  {
   "cell_type": "code",
   "execution_count": 15,
   "id": "ed116e03",
   "metadata": {},
   "outputs": [],
   "source": [
    "def heuristable(a, b):\n",
    "        if a == 'A' :\n",
    "            return 10\n",
    "        elif a == 'B' :\n",
    "            return 2\n",
    "        elif a == 'C' :\n",
    "            return 3\n",
    "        elif a == 'D' :\n",
    "            return 1\n",
    "        elif a == 'E' :\n",
    "            return 4\n",
    "        elif a == 'F' :\n",
    "            return 0"
   ]
  },
  {
   "cell_type": "code",
   "execution_count": 16,
   "id": "542eaab3",
   "metadata": {},
   "outputs": [
    {
     "name": "stdout",
     "output_type": "stream",
     "text": [
      "Node yang dikunjungi dari A ke F: ['A', 'C', 'F']\n"
     ]
    }
   ],
   "source": [
    "path_node = nx.astar_path(G, 'A', 'F', heuristic=heuristable, weight='weight')\n",
    "print(\"Node yang dikunjungi dari A ke F:\", path_node)"
   ]
  }
 ],
 "metadata": {
  "kernelspec": {
   "display_name": "tf-gpu",
   "language": "python",
   "name": "python3"
  },
  "language_info": {
   "codemirror_mode": {
    "name": "ipython",
    "version": 3
   },
   "file_extension": ".py",
   "mimetype": "text/x-python",
   "name": "python",
   "nbconvert_exporter": "python",
   "pygments_lexer": "ipython3",
   "version": "3.10.17"
  }
 },
 "nbformat": 4,
 "nbformat_minor": 5
}
