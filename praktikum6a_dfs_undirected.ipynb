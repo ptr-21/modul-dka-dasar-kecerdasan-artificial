{
 "cells": [
  {
   "cell_type": "markdown",
   "id": "d6076497",
   "metadata": {},
   "source": [
    "import Library"
   ]
  },
  {
   "cell_type": "code",
   "execution_count": 1,
   "id": "35ef42c7",
   "metadata": {},
   "outputs": [],
   "source": [
    "import networkx as nx # untuk membuat grafik\n",
    "import matplotlib.pyplot as plt # untuk plot grafik"
   ]
  },
  {
   "cell_type": "markdown",
   "id": "cc64fdf0",
   "metadata": {},
   "source": [
    "Function untuk cetak plot"
   ]
  },
  {
   "cell_type": "code",
   "execution_count": 2,
   "id": "44b932f0",
   "metadata": {},
   "outputs": [],
   "source": [
    "# Fungsi pendukung untuk mencetak graf\n",
    "def show_graph(G, pos=None, title=''):\n",
    "    # Membuat pos jika pos tidak diberikan\n",
    "    if pos is None:\n",
    "        pos = nx.spring_layout(G)\n",
    "\n",
    "    # Fungsi untuk menggambar node\n",
    "    nx.draw(\n",
    "        G,              # Graf NetworkX\n",
    "        pos,            # Posisi node\n",
    "        with_labels=True,     # Menampilkan nama node\n",
    "        node_color='red',     # Warna node\n",
    "        node_size=2000,       # Ukuran node\n",
    "        font_color=\"white\",   # Warna font label node\n",
    "        font_weight=\"bold\",   # Ketebalan font label node\n",
    "        width=5               # Ketebalan garis edge\n",
    "    )\n",
    "\n",
    "    # Mengambil label edge jika ada weight\n",
    "    edge_labels = nx.get_edge_attributes(G, 'weight')\n",
    "\n",
    "    # Fungsi untuk menggambar label edge\n",
    "    nx.draw_networkx_edge_labels(\n",
    "        G,\n",
    "        pos,\n",
    "        edge_labels=edge_labels,  # Data weight\n",
    "        font_color='blue',        # Warna font label edge\n",
    "        font_weight=\"bold\",       # Berat font label edge\n",
    "        font_size=12              # Ukuran font label edge\n",
    "    )\n",
    "\n",
    "    plt.margins(0.2)    # Memberikan margin pada plot\n",
    "    plt.title(title)    # Menampilkan judul graf jika diberikan\n",
    "    plt.show()\n"
   ]
  },
  {
   "cell_type": "markdown",
   "id": "25f434fb",
   "metadata": {},
   "source": [
    "Posisi node `pos` agar sesuai dengan gambar contoh"
   ]
  },
  {
   "cell_type": "code",
   "execution_count": null,
   "id": "e66c9c8f",
   "metadata": {},
   "outputs": [],
   "source": [
    "pos = {\n",
    "    'A': (0, 3), #bagian kiri itu menentukan area kiri dan kanan kalo bagian kanan itu tingkatnya\n",
    "    'B': (-10, 2), 'C': (10, 2),\n",
    "    'D': (-15, 1), 'E': (-5, 1), 'F': (5, 1), 'G': (15, 1),\n",
    "    'H': (-18, 0), 'I': (-12, 0), 'J': (-8, 0), 'K': (-2, 0),\n",
    "    'L': (2, 0), 'M': (8, 0), 'N': (12, 0), 'O': (18, 0)\n",
    "}\n"
   ]
  },
  {
   "cell_type": "markdown",
   "id": "72689669",
   "metadata": {},
   "source": [
    "Membuat tree dengan NetworkX"
   ]
  },
  {
   "cell_type": "code",
   "execution_count": null,
   "id": "7d987ac3",
   "metadata": {},
   "outputs": [],
   "source": [
    "# Inisialisasi graf kosong\n",
    "G = nx.Graph()\n",
    "# Definisi node dan edge\n",
    "edges = [\n",
    "    ('A', 'B'), ('A', 'C'),\n",
    "    ('B', 'D'), ('B', 'E'),\n",
    "    ('C', 'F'), ('C', 'G'),\n",
    "    ('D', 'H'), ('D', 'I'),\n",
    "    ('E', 'J'), ('E', 'K'),\n",
    "    ('F', 'L'), ('F', 'M'),\n",
    "    ('G', 'N'), ('G', 'O')\n",
    "]\n",
    "# Menambahkan edge pada graf\n",
    "G.add_edges_from(edges)"
   ]
  },
  {
   "cell_type": "markdown",
   "id": "a057311e",
   "metadata": {},
   "source": [
    "Evaluasi elemen pada graf\n"
   ]
  },
  {
   "cell_type": "code",
   "execution_count": 5,
   "id": "d54b0131",
   "metadata": {},
   "outputs": [
    {
     "name": "stdout",
     "output_type": "stream",
     "text": [
      "Elemen pada Graf:\n",
      "Daftar Node pada Graf: ['A', 'B', 'C', 'D', 'E', 'F', 'G', 'H', 'I', 'J', 'K', 'L', 'M', 'N', 'O']\n",
      "Daftar Edge pada Graf: [('A', 'B'), ('A', 'C'), ('B', 'D'), ('B', 'E'), ('C', 'F'), ('C', 'G'), ('D', 'H'), ('D', 'I'), ('E', 'J'), ('E', 'K'), ('F', 'L'), ('F', 'M'), ('G', 'N'), ('G', 'O')]\n",
      "Jumlah Node pada Graf 15\n",
      "Jumlah Edge pada Graf 14\n"
     ]
    }
   ],
   "source": [
    "print(\"Elemen pada Graf:\")\n",
    "print(\"Daftar Node pada Graf:\", G.nodes())\n",
    "print(\"Daftar Edge pada Graf:\", G.edges())\n",
    "print(\"Jumlah Node pada Graf\", G.number_of_nodes())\n",
    "print(\"Jumlah Edge pada Graf\", G.number_of_edges())"
   ]
  },
  {
   "cell_type": "markdown",
   "id": "001d968a",
   "metadata": {},
   "source": [
    "Visualisasi graf"
   ]
  },
  {
   "cell_type": "code",
   "execution_count": 6,
   "id": "865da97b",
   "metadata": {},
   "outputs": [
    {
     "data": {
      "image/png": "[encoded data removed]",
      "text/plain": [
       "<Figure size 640x480 with 1 Axes>"
      ]
     },
     "metadata": {},
     "output_type": "display_data"
    }
   ],
   "source": [
    "show_graph(G, pos=pos)"
   ]
  },
  {
   "cell_type": "markdown",
   "id": "c3b12714",
   "metadata": {},
   "source": [
    "Urutan Depth-First Search"
   ]
  },
  {
   "cell_type": "code",
   "execution_count": null,
   "id": "39ffa326",
   "metadata": {},
   "outputs": [
    {
     "name": "stdout",
     "output_type": "stream",
     "text": [
      "Urutan node yang dikunjungi:\n",
      "1. A - B\n",
      "2. B - D\n",
      "3. D - H\n",
      "4. D - I\n",
      "5. B - E\n",
      "6. E - J\n",
      "7. E - K\n",
      "8. A - C\n",
      "9. C - F\n",
      "10. F - L\n",
      "11. F - M\n",
      "12. C - G\n",
      "13. G - N\n",
      "14. G - O\n",
      "Urutan node yang dikunjungi:\n",
      "1. A - B\n",
      "2. B - D\n",
      "3. B - E\n",
      "4. A - C\n",
      "5. C - F\n",
      "6. C - G\n"
     ]
    }
   ],
   "source": [
    "print(\"Urutan node yang dikunjungi:\")\n",
    "i = 1\n",
    "for nodes in nx.dfs_edges(G, source='A'):\n",
    "    print(f\"{i}. {nodes[0]} - {nodes[1]}\")\n",
    "    i += 1\n",
    "# loop untuk urutan Depth First Search dengan depth 2\n",
    "print(\"Urutan node yang dikunjungi:\")\n",
    "i = 1\n",
    "for nodes in nx.dfs_edges(G, source='A', depth_limit=2):\n",
    "    print(f\"{i}. {nodes[0]} - {nodes[1]}\")\n",
    "    i += 1\n",
    "#depth limit adalah maksimal tingkat dari atas"
   ]
  }
 ],
 "metadata": {
  "kernelspec": {
   "display_name": "tf-gpu-cuda",
   "language": "python",
   "name": "python3"
  },
  "language_info": {
   "codemirror_mode": {
    "name": "ipython",
    "version": 3
   },
   "file_extension": ".py",
   "mimetype": "text/x-python",
   "name": "python",
   "nbconvert_exporter": "python",
   "pygments_lexer": "ipython3",
   "version": "3.10.16"
  }
 },
 "nbformat": 4,
 "nbformat_minor": 5
}
