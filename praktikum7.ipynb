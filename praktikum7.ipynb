{
 "cells": [
  {
   "cell_type": "markdown",
   "id": "0798003d",
   "metadata": {},
   "source": [
    "1. Undirected Graph"
   ]
  },
  {
   "cell_type": "markdown",
   "id": "06278b91",
   "metadata": {},
   "source": [
    "Import library"
   ]
  },
  {
   "cell_type": "code",
   "execution_count": 32,
   "id": "e37011b2",
   "metadata": {},
   "outputs": [],
   "source": [
    "import networkx as nx\n",
    "import matplotlib.pyplot as plt"
   ]
  },
  {
   "cell_type": "markdown",
   "id": "e89860b1",
   "metadata": {},
   "source": [
    "Function cetak plot"
   ]
  },
  {
   "cell_type": "code",
   "execution_count": 33,
   "id": "1e6b3a3d",
   "metadata": {},
   "outputs": [],
   "source": [
    "def show_graph(G, pos=None, title='') :\n",
    "    # Membuat pos jika pos tidak diberikan\n",
    "    if pos is None:\n",
    "        pos = nx.spring_layout(G)\n",
    "    nx.draw(\n",
    "        G, # Graf NetworkX\n",
    "        pos, # Posisi node\n",
    "        with_labels=True, # Menampilkan nama node\n",
    "        node_color='red', # Warna node\n",
    "        node_size=2000, # Ukuran node\n",
    "        font_color=\"white\", # Warna font label node\n",
    "        font_weight=\"bold\", # Ketebalan font label node\n",
    "        width=5 # Ketebalan garis edge\n",
    "    )\n",
    "    edge_labels = nx.get_edge_attributes(G, 'weight')\n",
    "    nx.draw_networkx_edge_labels(\n",
    "        G,\n",
    "        pos,\n",
    "        edge_labels=edge_labels, # Data weight\n",
    "        font_color='blue', # Warna font label edge\n",
    "        font_weight=\"bold\", # Berat font label edge\n",
    "        font_size=12\n",
    "    )\n",
    "    plt.margins(0.2) # Memberikan margin pada plot\n",
    "    plt.title(title) # Menampilkan judul graf jika diberikan\n",
    "    plt.show() # Menampilkan graf menggunakan matplotlib"
   ]
  },
  {
   "cell_type": "markdown",
   "id": "901bd711",
   "metadata": {},
   "source": [
    "Membuat POS (posisi node)"
   ]
  },
  {
   "cell_type": "code",
   "execution_count": 34,
   "id": "351c42b1",
   "metadata": {},
   "outputs": [],
   "source": [
    "pos = {\n",
    "    'A': (0, 3),\n",
    "    'B': (-10, 2), 'C': (10, 2),\n",
    "    'D': (-15, 1), 'E': (-5, 1), 'F': (5, 1), 'G': (15, 1),\n",
    "    'H': (-18, 0), 'I': (-12, 0), 'J': (-8, 0), 'K': (-2, 0),\n",
    "    'L': (2, 0), 'M': (8, 0), 'N': (12, 0), 'O': (18, 0)\n",
    "}"
   ]
  },
  {
   "cell_type": "markdown",
   "id": "fc5a668b",
   "metadata": {},
   "source": [
    "tree dengan NetworkX"
   ]
  },
  {
   "cell_type": "code",
   "execution_count": 35,
   "id": "166e40b4",
   "metadata": {},
   "outputs": [],
   "source": [
    "G = nx.Graph()\n",
    "edges = [\n",
    "    ('A', 'B', 1), ('A', 'C', 3),\n",
    "    ('B', 'D', 2), ('B', 'E', 1),\n",
    "    ('C', 'F', 1), ('C', 'G', 2),\n",
    "    ('D', 'H', 2), ('D', 'I', 3),\n",
    "    ('E', 'J', 3), ('E', 'K', 2),\n",
    "    ('F', 'L', 3), ('F', 'M', 2),\n",
    "    ('G', 'N', 2), ('G', 'O', 3)\n",
    "]\n",
    "# Menambahkan edge pada graf\n",
    "G.add_weighted_edges_from(edges)"
   ]
  },
  {
   "cell_type": "markdown",
   "id": "7a33a260",
   "metadata": {},
   "source": [
    "print elemen pada graf"
   ]
  },
  {
   "cell_type": "code",
   "execution_count": 36,
   "id": "659f06b5",
   "metadata": {},
   "outputs": [
    {
     "name": "stdout",
     "output_type": "stream",
     "text": [
      "Elemen pada Graf:\n",
      "Daftar Node pada Graf: ['A', 'B', 'C', 'D', 'E', 'F', 'G', 'H', 'I', 'J', 'K', 'L', 'M', 'N', 'O']\n",
      "Daftar Edge pada Graf: [('A', 'B'), ('A', 'C'), ('B', 'D'), ('B', 'E'), ('C', 'F'), ('C', 'G'), ('D', 'H'), ('D', 'I'), ('E', 'J'), ('E', 'K'), ('F', 'L'), ('F', 'M'), ('G', 'N'), ('G', 'O')]\n",
      "Jumlah Node pada Graf 15\n",
      "Jumlah Edge pada Graf 14\n"
     ]
    }
   ],
   "source": [
    "print(\"Elemen pada Graf:\")\n",
    "print(\"Daftar Node pada Graf:\", G.nodes())\n",
    "print(\"Daftar Edge pada Graf:\", G.edges())\n",
    "print(\"Jumlah Node pada Graf\", G.number_of_nodes())\n",
    "print(\"Jumlah Edge pada Graf\", G.number_of_edges())"
   ]
  },
  {
   "cell_type": "markdown",
   "id": "ba0776ea",
   "metadata": {},
   "source": [
    "Visualisasi graf"
   ]
  },
  {
   "cell_type": "code",
   "execution_count": null,
   "id": "9c648f51",
   "metadata": {},
   "outputs": [
    {
     "data": {
      "image/png": "[encoded data removed]",
      "text/plain": [
       "<Figure size 640x480 with 1 Axes>"
      ]
     },
     "metadata": {},
     "output_type": "display_data"
    }
   ],
   "source": [
    "show_graph(G, pos=pos)"
   ]
  },
  {
   "cell_type": "markdown",
   "id": "45f58437",
   "metadata": {},
   "source": [
    "Membuat fungsi heuristik"
   ]
  },
  {
   "cell_type": "code",
   "execution_count": 38,
   "id": "5c4910e6",
   "metadata": {},
   "outputs": [],
   "source": [
    "def heuristable(a, b):\n",
    "    return 0\n",
    "#dibuat 0 karena ga perlu heruistik tetapi perlu librarynya"
   ]
  },
  {
   "cell_type": "markdown",
   "id": "f9dc7354",
   "metadata": {},
   "source": [
    "Menentukan jalur dari node A ke node M dengan UCS"
   ]
  },
  {
   "cell_type": "code",
   "execution_count": 39,
   "id": "e3cd1583",
   "metadata": {},
   "outputs": [
    {
     "name": "stdout",
     "output_type": "stream",
     "text": [
      "Node yang dikunjungi dari A ke M: ['A', 'C', 'F', 'M']\n",
      "Besar weight terkecil dari A ke M: 6\n"
     ]
    }
   ],
   "source": [
    "path_node = nx.astar_path(G, 'A', 'M', heuristic=heuristable,\n",
    "weight='weight')\n",
    "# Mencari weight terkecil dari A ke M\n",
    "path_length = nx.astar_path_length(G, 'A', 'M', heuristic=heuristable,\n",
    "weight='weight')\n",
    "# Cetak hasil\n",
    "print(\"Node yang dikunjungi dari A ke M:\", path_node)\n",
    "print(\"Besar weight terkecil dari A ke M:\", path_length)"
   ]
  },
  {
   "cell_type": "markdown",
   "id": "dafdcf04",
   "metadata": {},
   "source": [
    "2. Directed Graph"
   ]
  },
  {
   "cell_type": "markdown",
   "id": "cd7a6f70",
   "metadata": {},
   "source": [
    "Import library"
   ]
  },
  {
   "cell_type": "code",
   "execution_count": 40,
   "id": "34176b00",
   "metadata": {},
   "outputs": [],
   "source": [
    "import networkx as nx\n",
    "import matplotlib.pyplot as plt"
   ]
  },
  {
   "cell_type": "markdown",
   "id": "d9c5c718",
   "metadata": {},
   "source": [
    "Function cetak plot"
   ]
  },
  {
   "cell_type": "code",
   "execution_count": 41,
   "id": "47413838",
   "metadata": {},
   "outputs": [],
   "source": [
    "def show_graph(G, pos=None, title='', labels=None):\n",
    "    if pos is None:\n",
    "        pos = nx.spring_layout(G)\n",
    "\n",
    "    # Kalau labels tidak diberikan, pakai nama node biasa\n",
    "    if labels is None:\n",
    "        labels = {node: str(node) for node in G.nodes()}\n",
    "\n",
    "    nx.draw(\n",
    "        G,\n",
    "        pos,\n",
    "        with_labels=False,  # Jangan tampilkan label default\n",
    "        node_color='red',\n",
    "        node_size=2000,\n",
    "        font_color=\"white\",\n",
    "        font_weight=\"bold\",\n",
    "        width=5\n",
    "    )\n",
    "\n",
    "    # Gambar label custom di node\n",
    "    nx.draw_networkx_labels(\n",
    "        G,\n",
    "        pos,\n",
    "        labels=labels,\n",
    "        font_color='white',\n",
    "        font_weight='bold'\n",
    "    )\n",
    "\n",
    "    edge_labels = nx.get_edge_attributes(G, 'weight')\n",
    "    nx.draw_networkx_edge_labels(\n",
    "        G,\n",
    "        pos,\n",
    "        edge_labels=edge_labels,\n",
    "        font_color='blue',\n",
    "        font_weight=\"bold\",\n",
    "        font_size=12\n",
    "    )\n",
    "\n",
    "    plt.margins(0.2)\n",
    "    plt.title(title)\n",
    "    plt.show()\n"
   ]
  },
  {
   "cell_type": "markdown",
   "id": "bb94f1ce",
   "metadata": {},
   "source": [
    "Membuat POS (posisi node)"
   ]
  },
  {
   "cell_type": "code",
   "execution_count": 42,
   "id": "42169abc",
   "metadata": {},
   "outputs": [],
   "source": [
    "pos = {\n",
    "    'A': (0, 1),\n",
    "    'B': (1, 2),\n",
    "    'C': (1, 0),\n",
    "    'D': (2, 3),\n",
    "    'E': (2, 1.5),\n",
    "    'F': (2, 0)\n",
    "}"
   ]
  },
  {
   "cell_type": "markdown",
   "id": "7666bfef",
   "metadata": {},
   "source": [
    "Membuat directed graph dengan NetworkX"
   ]
  },
  {
   "cell_type": "code",
   "execution_count": 43,
   "id": "6ddd8899",
   "metadata": {},
   "outputs": [],
   "source": [
    "G = nx.DiGraph()\n",
    "edges = [\n",
    "    ('A', 'B', 2), ('A', 'C', 5),\n",
    "    ('B', 'D', 2), ('B', 'E', 4),\n",
    "    ('C', 'E', 1), ('C', 'F', 5),\n",
    "    ('E', 'D', 3), ('E', 'F', 2)\n",
    "]\n",
    "# Menambahkan edge pada graf\n",
    "G.add_weighted_edges_from(edges) "
   ]
  },
  {
   "cell_type": "markdown",
   "id": "a5abdbbd",
   "metadata": {},
   "source": [
    "Print elemen graf"
   ]
  },
  {
   "cell_type": "code",
   "execution_count": 44,
   "id": "afb78317",
   "metadata": {},
   "outputs": [
    {
     "name": "stdout",
     "output_type": "stream",
     "text": [
      "Elemen pada Graf:\n",
      "Daftar Node pada Graf: ['A', 'B', 'C', 'D', 'E', 'F']\n",
      "Daftar Edge pada Graf: [('A', 'B'), ('A', 'C'), ('B', 'D'), ('B', 'E'), ('C', 'E'), ('C', 'F'), ('E', 'D'), ('E', 'F')]\n",
      "Jumlah Node pada Graf 6\n",
      "Jumlah Edge pada Graf 8\n"
     ]
    }
   ],
   "source": [
    "print(\"Elemen pada Graf:\")\n",
    "print(\"Daftar Node pada Graf:\", G.nodes())\n",
    "print(\"Daftar Edge pada Graf:\", G.edges())\n",
    "print(\"Jumlah Node pada Graf\", G.number_of_nodes())\n",
    "print(\"Jumlah Edge pada Graf\", G.number_of_edges())"
   ]
  },
  {
   "cell_type": "markdown",
   "id": "0dd2bcb0",
   "metadata": {},
   "source": [
    "Menambahkan label start dan goal"
   ]
  },
  {
   "cell_type": "code",
   "execution_count": 45,
   "id": "66362ea1",
   "metadata": {},
   "outputs": [],
   "source": [
    "labels = {node: node for node in G.nodes()}\n",
    "labels['A'] = 'A\\nStart'\n",
    "labels['F'] = 'F\\nGoal'"
   ]
  },
  {
   "cell_type": "markdown",
   "id": "cb6c4a42",
   "metadata": {},
   "source": [
    "Visualisasi graf"
   ]
  },
  {
   "cell_type": "code",
   "execution_count": 46,
   "id": "54b1d420",
   "metadata": {},
   "outputs": [
    {
     "data": {
      "image/png": "[encoded data removed]",
      "text/plain": [
       "<Figure size 640x480 with 1 Axes>"
      ]
     },
     "metadata": {},
     "output_type": "display_data"
    }
   ],
   "source": [
    "show_graph(G, pos=pos, labels=labels)"
   ]
  },
  {
   "cell_type": "markdown",
   "id": "50d1b3ad",
   "metadata": {},
   "source": [
    "Membuat fungsi heuristik"
   ]
  },
  {
   "cell_type": "code",
   "execution_count": 47,
   "id": "166a4515",
   "metadata": {},
   "outputs": [],
   "source": [
    "def heuristable(a, b):\n",
    "    return 0"
   ]
  },
  {
   "cell_type": "markdown",
   "id": "c6cc450b",
   "metadata": {},
   "source": [
    "Menentukan jalur dari node A ke node F dengan UCS"
   ]
  },
  {
   "cell_type": "code",
   "execution_count": 48,
   "id": "8c9a237c",
   "metadata": {},
   "outputs": [
    {
     "name": "stdout",
     "output_type": "stream",
     "text": [
      "Node yang dikunjungi dari A ke M: ['A', 'B', 'E', 'F']\n",
      "Besar weight terkecil dari A ke M: 8\n"
     ]
    }
   ],
   "source": [
    "path_node = nx.astar_path(G, 'A', 'F', heuristic=heuristable,\n",
    "weight='weight')\n",
    "# Mencari weight terkecil dari A ke M\n",
    "path_length = nx.astar_path_length(G, 'A', 'F', heuristic=heuristable,\n",
    "weight='weight')\n",
    "# Cetak hasil\n",
    "print(\"Node yang dikunjungi dari A ke M:\", path_node)\n",
    "print(\"Besar weight terkecil dari A ke M:\", path_length) "
   ]
  }
 ],
 "metadata": {
  "kernelspec": {
   "display_name": "tf-gpu-cuda",
   "language": "python",
   "name": "python3"
  },
  "language_info": {
   "codemirror_mode": {
    "name": "ipython",
    "version": 3
   },
   "file_extension": ".py",
   "mimetype": "text/x-python",
   "name": "python",
   "nbconvert_exporter": "python",
   "pygments_lexer": "ipython3",
   "version": "3.10.16"
  }
 },
 "nbformat": 4,
 "nbformat_minor": 5
}
