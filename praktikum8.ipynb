{
 "cells": [
  {
   "cell_type": "markdown",
   "id": "080af0a7",
   "metadata": {},
   "source": [
    "RUMUS ECLUDIAN\n",
    "\n",
    "akar((x2-x1)kuadrat + (y2-y1)kuadrat)"
   ]
  },
  {
   "cell_type": "markdown",
   "id": "6e18e3a6",
   "metadata": {},
   "source": [
    "Import library"
   ]
  },
  {
   "cell_type": "code",
   "execution_count": null,
   "id": "51b63825",
   "metadata": {},
   "outputs": [],
   "source": [
    "import random\n",
    "import math"
   ]
  },
  {
   "cell_type": "markdown",
   "id": "e67e70e0",
   "metadata": {},
   "source": [
    "Deklarasi function"
   ]
  },
  {
   "cell_type": "code",
   "execution_count": null,
   "id": "59c49dcc",
   "metadata": {},
   "outputs": [],
   "source": [
    "def distance(city1, city2):\n",
    "    return math.sqrt((city1[0] - city2[0]) ** 2 + (city1[1] - city2[1]) ** 2)\n",
    "def total_distance(tour, cities):\n",
    "    dist = 0\n",
    "    for i in range(len(tour)):\n",
    "        dist += distance(cities[tour[i]], cities[tour[(i + 1) % len(tour)]])\n",
    "    return dist\n",
    "def get_neighbors(tour):\n",
    "    neighbors = []\n",
    "    for i in range(len(tour)):\n",
    "        for j in range(i + 1, len(tour)):\n",
    "            neighbor = tour[:]\n",
    "            neighbor[i], neighbor[j] = neighbor[j], neighbor[i]\n",
    "            neighbors.append(neighbor)\n",
    "    return neighbors\n"
   ]
  },
  {
   "cell_type": "markdown",
   "id": "ee68bb87",
   "metadata": {},
   "source": [
    "Hill Climbing Algorithm"
   ]
  },
  {
   "cell_type": "code",
   "execution_count": 3,
   "id": "9367b540",
   "metadata": {},
   "outputs": [
    {
     "name": "stdout",
     "output_type": "stream",
     "text": [
      "Solusi terbaik (urutan kota): [4, 0, 1, 5, 2, 6, 7, 3]\n",
      "Total jarak terbaik: 24.122094492753842\n"
     ]
    }
   ],
   "source": [
    "cities = [\n",
    "    (0, 0), (1, 3), (4, 3), (6, 1),\n",
    "    (3, 0), (2, 2), (5, 5), (7, 7)\n",
    "]\n",
    "current_solution = list(range(len(cities)))\n",
    "random.shuffle(current_solution)\n",
    "current_distance = total_distance(current_solution, cities)\n",
    "while True:\n",
    "    neighbors = get_neighbors(current_solution)\n",
    "    best_neighbor = min(neighbors, key=lambda tour: total_distance(tour, cities))\n",
    "    best_distance = total_distance(best_neighbor, cities)\n",
    "    if best_distance >= current_distance:\n",
    "        break\n",
    "    current_solution = best_neighbor\n",
    "    current_distance = best_distance\n",
    "print(\"Solusi terbaik (urutan kota):\", current_solution)\n",
    "print(\"Total jarak terbaik:\", current_distance)"
   ]
  }
 ],
 "metadata": {
  "kernelspec": {
   "display_name": "tf-gpu-cuda",
   "language": "python",
   "name": "python3"
  },
  "language_info": {
   "codemirror_mode": {
    "name": "ipython",
    "version": 3
   },
   "file_extension": ".py",
   "mimetype": "text/x-python",
   "name": "python",
   "nbconvert_exporter": "python",
   "pygments_lexer": "ipython3",
   "version": "3.10.16"
  }
 },
 "nbformat": 4,
 "nbformat_minor": 5
}
